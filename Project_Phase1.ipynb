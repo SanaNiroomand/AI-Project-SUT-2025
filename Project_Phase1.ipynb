{
  "cells": [
    {
      "cell_type": "markdown",
      "metadata": {
        "id": "view-in-github",
        "colab_type": "text"
      },
      "source": [
        "<a href=\"https://colab.research.google.com/github/SanaNiroomand/AI-Project-SUT-2025/blob/main/Project_Phase1.ipynb\" target=\"_parent\"><img src=\"https://colab.research.google.com/assets/colab-badge.svg\" alt=\"Open In Colab\"/></a>"
      ]
    },
    {
      "cell_type": "markdown",
      "id": "6c0ff76a",
      "metadata": {
        "id": "6c0ff76a"
      },
      "source": [
        "\n",
        "<br>\n",
        "<font>\n",
        "<div dir=ltr align=center>\n",
        "<img src=\"https://cdn.freebiesupply.com/logos/large/2x/sharif-logo-png-transparent.png\" width=150 height=150>\n",
        "<div dir=ltr align=center>\n",
        "<font color=0F5298 size=7>\n",
        "    Artificial Intelligence <br>\n",
        "<font color=2565AE size=5>\n",
        "    Computer Engineering Department <br>\n",
        "    Spring 2025<br>\n",
        "<font color=3C99D size=5>\n",
        "    Project-Phase1<br>\n",
        "    Image Segmentation<br>\n",
        "<font color=696880 size=4>\n",
        "    Shayan Baghayi Nejad-Armin Khosravi\n"
      ]
    },
    {
      "cell_type": "markdown",
      "id": "123da0cc",
      "metadata": {
        "id": "123da0cc"
      },
      "source": [
        "<font size=5 color=cyan> Names:\n",
        "\n",
        "Student Numbers:  </font>"
      ]
    },
    {
      "cell_type": "markdown",
      "id": "69a4f949",
      "metadata": {
        "id": "69a4f949"
      },
      "source": [
        "# Introduction\n",
        "\n",
        "In this Project, we will become familiar with UNet architecture, Attention mechanism, and Residual blocks with the help of which we will build UNet, AttentionUNet, and ResidualAttentionUnet from scratch using PyTorch framework. The built models will be evaluated by various metrics such as accuracy, Iou score, and Dice score."
      ]
    },
    {
      "cell_type": "markdown",
      "id": "add2691c",
      "metadata": {
        "id": "add2691c"
      },
      "source": [
        "### Environment Setup\n",
        "\n",
        "Here you will find the required packages. Feel free to add the list."
      ]
    },
    {
      "cell_type": "code",
      "execution_count": 6,
      "id": "a8c7abed",
      "metadata": {
        "id": "a8c7abed",
        "outputId": "d85bc6f9-7dad-49f0-9529-c575cfbe5671",
        "colab": {
          "base_uri": "https://localhost:8080/",
          "height": 35
        }
      },
      "outputs": [
        {
          "output_type": "execute_result",
          "data": {
            "text/plain": [
              "'cuda'"
            ],
            "application/vnd.google.colaboratory.intrinsic+json": {
              "type": "string"
            }
          },
          "metadata": {},
          "execution_count": 6
        }
      ],
      "source": [
        "import os\n",
        "import shutil\n",
        "import numpy as np\n",
        "from PIL import Image\n",
        "import torch\n",
        "import torch.nn as nn\n",
        "import kagglehub\n",
        "import matplotlib.pyplot as plt\n",
        "from torch.utils.data import Dataset, DataLoader\n",
        "from torchvision import transforms\n",
        "from torch.optim import Adam\n",
        "from tqdm import tqdm\n",
        "\n",
        "device = 'cuda' if torch.cuda.is_available() else 'cpu'\n",
        "device"
      ]
    },
    {
      "cell_type": "markdown",
      "id": "b7a38d4c",
      "metadata": {
        "id": "b7a38d4c"
      },
      "source": [
        "### Hyperparameter Setting\n",
        "\n",
        "Place your hyperparameters' values in the cell below."
      ]
    },
    {
      "cell_type": "code",
      "execution_count": 28,
      "id": "af2bade6",
      "metadata": {
        "id": "af2bade6"
      },
      "outputs": [],
      "source": [
        "# === Hyperparameters & Paths ===\n",
        "DATA_DIR = \"/content/drive/MyDrive/AI_Project_14032/massachusetts-roads-dataset\"  # root of dataset that contains 'tiff/train' and 'tiff/train_labels'\n",
        "IMAGE_SIZE = (256, 256)   # (W, H)\n",
        "BATCH_SIZE = 8\n",
        "NUM_WORKERS = 2\n",
        "LR = 1e-3\n",
        "NUM_EPOCHS = 15\n"
      ]
    },
    {
      "cell_type": "markdown",
      "id": "2ec03182",
      "metadata": {
        "id": "2ec03182"
      },
      "source": [
        "# Data Preparation\n",
        "\n",
        "Our task is to segment the [Massachusetts Road Dataset](https://www.kaggle.com/datasets/balraj98/massachusetts-roads-dataset). You can download this dataset by placing your API Token from kaggle in ```~/.kaggle/``` folder (Instructions can be found in the Kaggle website) and then running the code below."
      ]
    },
    {
      "cell_type": "code",
      "execution_count": 8,
      "id": "4bd65cfb",
      "metadata": {
        "id": "4bd65cfb",
        "colab": {
          "base_uri": "https://localhost:8080/"
        },
        "outputId": "78cb31fa-e8ce-4a9b-ebe3-0c645a5da49a"
      },
      "outputs": [
        {
          "output_type": "stream",
          "name": "stdout",
          "text": [
            "ℹ️ هیچ کشی پیدا نشد.\n",
            "ℹ️ دیتاستی در کش پیدا نشد.\n",
            "📂 مسیر دیتاست: /kaggle/input/massachusetts-roads-dataset\n"
          ]
        }
      ],
      "source": [
        "import shutil\n",
        "import os\n",
        "\n",
        "# مسیر کش پیش‌فرض KaggleHub در Colab\n",
        "kagglehub_cache = \"/root/.cache/kagglehub\"\n",
        "\n",
        "# اگر وجود داشت، پاکش کن\n",
        "if os.path.exists(kagglehub_cache):\n",
        "    shutil.rmtree(kagglehub_cache)\n",
        "    print(\"✅ تمام کش KaggleHub پاک شد.\")\n",
        "else:\n",
        "    print(\"ℹ️ هیچ کشی پیدا نشد.\")\n",
        "\n",
        "# دوباره پوشه خالی بساز (اختیاری)\n",
        "os.makedirs(kagglehub_cache, exist_ok=True)\n",
        "\n",
        "dataset_cache_dir = \"/root/.cache/kagglehub/datasets/balraj98/massachusetts-roads-dataset\"\n",
        "\n",
        "# اگر وجود داشته باشه، پاکش کن\n",
        "if os.path.exists(dataset_cache_dir):\n",
        "    shutil.rmtree(dataset_cache_dir)\n",
        "    print(\"✅ همه نسخه‌های کش شده حذف شدند.\")\n",
        "else:\n",
        "    print(\"ℹ️ دیتاستی در کش پیدا نشد.\")\n",
        "\n",
        "# حالا دوباره دانلود کن\n",
        "import kagglehub\n",
        "\n",
        "path = kagglehub.dataset_download(\"balraj98/massachusetts-roads-dataset\")\n",
        "print(\"📂 مسیر دیتاست:\", path)"
      ]
    },
    {
      "cell_type": "markdown",
      "id": "c6ae940e",
      "metadata": {
        "id": "c6ae940e"
      },
      "source": [
        "If you are running on colab, it is highly recommended to save the dataset to your drive to avoid problems when disconnecting from runtime."
      ]
    },
    {
      "cell_type": "code",
      "execution_count": 9,
      "id": "7544f6e0",
      "metadata": {
        "id": "7544f6e0",
        "colab": {
          "base_uri": "https://localhost:8080/"
        },
        "outputId": "f22cf95f-1e22-4f28-fc91-c81eec4e1938"
      },
      "outputs": [
        {
          "output_type": "stream",
          "name": "stdout",
          "text": [
            "Mounted at /content/drive\n",
            "✅ دیتاست با موفقیت به Google Drive کپی شد و اگر قبلاً بود پاک شد.\n"
          ]
        }
      ],
      "source": [
        "from google.colab import drive\n",
        "import shutil\n",
        "import os\n",
        "\n",
        "# اتصال به گوگل درایو\n",
        "drive.mount('/content/drive', force_remount=True)\n",
        "\n",
        "# مسیر مبدا و مقصد\n",
        "src = \"/kaggle/input/massachusetts-roads-dataset\"\n",
        "dst = \"/content/drive/MyDrive/AI_Project_14032/massachusetts-roads-dataset\"\n",
        "\n",
        "# اگر مسیر مقصد وجود داشت، کامل پاکش کن\n",
        "if os.path.exists(dst):\n",
        "    shutil.rmtree(dst)  # حذف کل پوشه با محتویاتش\n",
        "\n",
        "# کپی کل پوشه از مبدا به مقصد\n",
        "shutil.copytree(src, dst)\n",
        "\n",
        "print(\"✅ دیتاست با موفقیت به Google Drive کپی شد و اگر قبلاً بود پاک شد.\")\n"
      ]
    },
    {
      "cell_type": "markdown",
      "id": "978482b0",
      "metadata": {
        "id": "978482b0"
      },
      "source": [
        "### Loading Images\n",
        "\n",
        "Load the images and their corresponding masks in two separate lists. (The cell below might take some time to execute.)"
      ]
    },
    {
      "cell_type": "code",
      "execution_count": 10,
      "id": "d1030509",
      "metadata": {
        "id": "d1030509"
      },
      "outputs": [],
      "source": [
        "from glob import glob\n",
        "\n",
        "def load_images_and_masks(images_path, masks_path, image_size):\n",
        "    '''\n",
        "    Load and preprocess images and masks.\n",
        "    Returns images: (N,H,W,3) float32 in [0,1], masks: (N,H,W,1) float32 in {0,1}\n",
        "    '''\n",
        "    img_files = sorted([f for f in glob(os.path.join(images_path, '*')) if os.path.isfile(f)])\n",
        "    msk_files = sorted([f for f in glob(os.path.join(masks_path,  '*')) if os.path.isfile(f)])\n",
        "\n",
        "    if len(img_files) != len(msk_files):\n",
        "        msk_map = {os.path.splitext(os.path.basename(p))[0]: p for p in msk_files}\n",
        "        aligned_imgs, aligned_msks = [], []\n",
        "        for p in img_files:\n",
        "            stem = os.path.splitext(os.path.basename(p))[0]\n",
        "            if stem in msk_map:\n",
        "                aligned_imgs.append(p)\n",
        "                aligned_msks.append(msk_map[stem])\n",
        "        img_files, msk_files = aligned_imgs, aligned_msks\n",
        "\n",
        "    images, masks = [], []\n",
        "    for img_p, msk_p in zip(img_files, msk_files):\n",
        "        img = Image.open(img_p).convert('RGB').resize(image_size, Image.BILINEAR)\n",
        "        msk = Image.open(msk_p).convert('L').resize(image_size, Image.NEAREST)\n",
        "\n",
        "        img = np.asarray(img, dtype=np.float32) / 255.0\n",
        "        msk = np.asarray(msk, dtype=np.uint8)\n",
        "        msk = (msk > 0.0).astype(np.float32)\n",
        "        msk = np.expand_dims(msk, axis=-1)\n",
        "\n",
        "        images.append(img); masks.append(msk)\n",
        "\n",
        "    if len(images) == 0:\n",
        "        raise RuntimeError(f'No image/mask pairs found under {images_path} / {masks_path}')\n",
        "\n",
        "    return np.stack(images, axis=0), np.stack(masks, axis=0)\n",
        "\n",
        "\n",
        "train_images_path = os.path.join(DATA_DIR, 'tiff', 'train')\n",
        "train_masks_path  = os.path.join(DATA_DIR, 'tiff', 'train_labels')\n",
        "\n",
        "val_images_path = os.path.join(DATA_DIR, 'tiff', 'val')\n",
        "val_masks_path  = os.path.join(DATA_DIR, 'tiff', 'val_labels')\n",
        "\n",
        "train_images, train_masks = load_images_and_masks(train_images_path, train_masks_path, IMAGE_SIZE)\n",
        "val_images,   val_masks   = load_images_and_masks(val_images_path,   val_masks_path,   IMAGE_SIZE)\n"
      ]
    },
    {
      "cell_type": "markdown",
      "id": "bb001870",
      "metadata": {
        "id": "bb001870"
      },
      "source": [
        "### Data Visualization\n",
        "\n",
        "Display the images and their masks for several samples."
      ]
    },
    {
      "cell_type": "code",
      "execution_count": 11,
      "id": "76150940",
      "metadata": {
        "id": "76150940"
      },
      "outputs": [],
      "source": [
        "def visualize_images_and_masks(images, masks, n=5):\n",
        "    n = min(n, len(images))\n",
        "    plt.figure(figsize=(8, 4 * n))\n",
        "    for i in range(n):\n",
        "        plt.subplot(n, 2, 2*i+1)\n",
        "        plt.imshow(images[i])\n",
        "        plt.axis('off'); plt.title('Image')\n",
        "        plt.subplot(n, 2, 2*i+2)\n",
        "        plt.imshow(masks[i].squeeze(), cmap='gray')\n",
        "        plt.axis('off'); plt.title('Mask')\n",
        "    plt.tight_layout(); plt.show()\n"
      ]
    },
    {
      "cell_type": "markdown",
      "id": "eef7624b",
      "metadata": {
        "id": "eef7624b"
      },
      "source": [
        "### Dataset Creation\n",
        "\n",
        "Finally, we will make the dataset using the list of images we have stored."
      ]
    },
    {
      "cell_type": "code",
      "execution_count": 12,
      "id": "e22ec808",
      "metadata": {
        "id": "e22ec808"
      },
      "outputs": [],
      "source": [
        "class RoadDataset(Dataset):\n",
        "    def __init__(self, images, masks, image_transform=None, mask_transform=None):\n",
        "        self.images = images\n",
        "        self.masks = masks\n",
        "        self.image_transform = image_transform\n",
        "        self.mask_transform = mask_transform\n",
        "\n",
        "    def __len__(self):\n",
        "        return len(self.images)\n",
        "\n",
        "    def __getitem__(self, idx):\n",
        "        img = self.images[idx]\n",
        "        msk = self.masks[idx]\n",
        "        img_pil = Image.fromarray((img*255).astype(np.uint8))\n",
        "        msk_pil = Image.fromarray((msk.squeeze()*255).astype(np.uint8))\n",
        "\n",
        "        img_t = self.image_transform(img_pil) if self.image_transform else transforms.ToTensor()(img_pil)\n",
        "        msk_t = self.mask_transform(msk_pil)  if self.mask_transform  else transforms.ToTensor()(msk_pil)\n",
        "        msk_t = (msk_t > 0).float()\n",
        "        return img_t, msk_t\n",
        "\n",
        "image_transform = transforms.Compose([transforms.ToTensor()])\n",
        "mask_transform  = transforms.Compose([transforms.ToTensor()])\n",
        "\n",
        "train_dataset = RoadDataset(train_images, train_masks, image_transform, mask_transform)\n",
        "val_dataset   = RoadDataset(val_images,   val_masks,   image_transform, mask_transform)\n",
        "\n",
        "train_loader  = DataLoader(train_dataset, batch_size=BATCH_SIZE, shuffle=True,  num_workers=NUM_WORKERS)\n",
        "val_loader    = DataLoader(val_dataset,   batch_size=BATCH_SIZE, shuffle=False, num_workers=NUM_WORKERS)\n"
      ]
    },
    {
      "cell_type": "markdown",
      "id": "89c6ee17",
      "metadata": {
        "id": "89c6ee17"
      },
      "source": [
        "# UNet\n",
        "\n",
        "Before proceeding, it is necessary to understand the idea behind UNet. In order to avoid too much details in this notebook, you can read the complete paper for UNet from [this link](https://arxiv.org/pdf/1505.04597).\n",
        "\n",
        "The overall structure of UNet is provided in the image below.\n",
        "\n",
        "![UNet Architecture](https://viso.ai/wp-content/uploads/2024/04/unet-process.png)"
      ]
    },
    {
      "cell_type": "markdown",
      "id": "2e549668",
      "metadata": {
        "id": "2e549668"
      },
      "source": [
        "### Convolution Block\n",
        "\n",
        "Convolution block is used at each level of UNet."
      ]
    },
    {
      "cell_type": "code",
      "execution_count": 13,
      "id": "1e971c7a",
      "metadata": {
        "id": "1e971c7a"
      },
      "outputs": [],
      "source": [
        "class ConvBlock(nn.Module):\n",
        "    def __init__(self, in_channel, out_channel):\n",
        "        super().__init__()\n",
        "        self.conv = nn.Sequential(\n",
        "            nn.Conv2d(in_channel, out_channel, 3, padding=1, bias=False),\n",
        "            nn.BatchNorm2d(out_channel),\n",
        "            nn.ReLU(inplace=True),\n",
        "            nn.Conv2d(out_channel, out_channel, 3, padding=1, bias=False),\n",
        "            nn.BatchNorm2d(out_channel),\n",
        "            nn.ReLU(inplace=True),\n",
        "        )\n",
        "    def forward(self, x):\n",
        "        return self.conv(x)\n"
      ]
    },
    {
      "cell_type": "markdown",
      "id": "4966b556",
      "metadata": {
        "id": "4966b556"
      },
      "source": [
        "### Up Convoluitional Block\n",
        "\n",
        "We use another block to upsample the latent vector."
      ]
    },
    {
      "cell_type": "code",
      "execution_count": 14,
      "id": "ba57654e",
      "metadata": {
        "id": "ba57654e"
      },
      "outputs": [],
      "source": [
        "class UpConvBlock(nn.Module):\n",
        "    def __init__(self, in_channel, out_channel):\n",
        "        super().__init__()\n",
        "        self.upconv = nn.ConvTranspose2d(in_channel, out_channel, kernel_size=2, stride=2)\n",
        "    def forward(self, x):\n",
        "        return self.upconv(x)\n"
      ]
    },
    {
      "cell_type": "markdown",
      "id": "4bcce31c",
      "metadata": {
        "id": "4bcce31c"
      },
      "source": [
        "### Complete UNet Structure\n",
        "\n",
        "Now using the ```ConvBlock``` and ```UpConvBlock``` you created, complete the UNet architecture."
      ]
    },
    {
      "cell_type": "code",
      "execution_count": 15,
      "id": "6fd32f6f",
      "metadata": {
        "id": "6fd32f6f"
      },
      "outputs": [],
      "source": [
        "class UNet(nn.Module):\n",
        "    def __init__(self, in_channel=3, out_channel=1, filter=[64,128,256,512]):\n",
        "        super().__init__()\n",
        "        f1,f2,f3,f4 = filter\n",
        "        self.enc1 = ConvBlock(in_channel, f1)\n",
        "        self.enc2 = ConvBlock(f1, f2)\n",
        "        self.enc3 = ConvBlock(f2, f3)\n",
        "        self.enc4 = ConvBlock(f3, f4)\n",
        "        self.pool = nn.MaxPool2d(2,2)\n",
        "\n",
        "        self.bottleneck = ConvBlock(f4, f4*2)\n",
        "\n",
        "        self.up4 = UpConvBlock(f4*2, f4); self.dec4 = ConvBlock(f4*2, f4)\n",
        "        self.up3 = UpConvBlock(f4, f3);   self.dec3 = ConvBlock(f3*2, f3)\n",
        "        self.up2 = UpConvBlock(f3, f2);   self.dec2 = ConvBlock(f2*2, f2)\n",
        "        self.up1 = UpConvBlock(f2, f1);   self.dec1 = ConvBlock(f1*2, f1)\n",
        "\n",
        "        self.out_conv = nn.Conv2d(f1, out_channel, 1)\n",
        "        self.act = nn.Sigmoid()\n",
        "\n",
        "    def forward(self, x):\n",
        "        x1 = self.enc1(x)\n",
        "        x2 = self.enc2(self.pool(x1))\n",
        "        x3 = self.enc3(self.pool(x2))\n",
        "        x4 = self.enc4(self.pool(x3))\n",
        "        xb = self.bottleneck(self.pool(x4))\n",
        "\n",
        "        d4 = self.up4(xb); d4 = torch.cat([d4, x4], dim=1); d4 = self.dec4(d4)\n",
        "        d3 = self.up3(d4); d3 = torch.cat([d3, x3], dim=1); d3 = self.dec3(d3)\n",
        "        d2 = self.up2(d3); d2 = torch.cat([d2, x2], dim=1); d2 = self.dec2(d2)\n",
        "        d1 = self.up1(d2); d1 = torch.cat([d1, x1], dim=1); d1 = self.dec1(d1)\n",
        "\n",
        "        out = self.out_conv(d1)\n",
        "        return self.act(out)\n"
      ]
    },
    {
      "cell_type": "markdown",
      "id": "1cc57fb9",
      "metadata": {
        "id": "1cc57fb9"
      },
      "source": [
        "# Attention UNet"
      ]
    },
    {
      "cell_type": "markdown",
      "id": "2a5061be",
      "metadata": {
        "id": "2a5061be"
      },
      "source": [
        "### Attention Mechanism\n",
        "\n",
        "Attention UNet uses this mechanism to know what part the image is more important to attend to. You can read about this mechanism from [this link](https://arxiv.org/pdf/1706.03762). The Attention mechanism in UNet is described in [this paper](https://arxiv.org/pdf/1804.03999).\n",
        "\n",
        "\n",
        "![Attention](https://www.researchgate.net/publication/373655981/figure/fig3/AS:11431281186315360@1693879045519/Visualization-of-attention-blocks-reveals-their-functionality-While-the-self-attention.png)"
      ]
    },
    {
      "cell_type": "code",
      "execution_count": 16,
      "id": "bf440754",
      "metadata": {
        "id": "bf440754"
      },
      "outputs": [],
      "source": [
        "class AttentionBlock(nn.Module):\n",
        "    def __init__(self, f_g, f_l, f_int):\n",
        "        super().__init__()\n",
        "        self.w_g = nn.Sequential(\n",
        "            nn.Conv2d(f_g, f_int, 1, bias=True),\n",
        "            nn.BatchNorm2d(f_int)\n",
        "        )\n",
        "        self.w_x = nn.Sequential(\n",
        "            nn.Conv2d(f_l, f_int, 1, bias=True),\n",
        "            nn.BatchNorm2d(f_int)\n",
        "        )\n",
        "        self.psi = nn.Sequential(\n",
        "            nn.Conv2d(f_int, 1, 1, bias=True),\n",
        "            nn.BatchNorm2d(1),\n",
        "            nn.Sigmoid()\n",
        "        )\n",
        "        self.act = nn.ReLU(inplace=True)\n",
        "\n",
        "    def forward(self, g, x):\n",
        "        psi = self.act(self.w_g(g) + self.w_x(x))\n",
        "        psi = self.psi(psi)\n",
        "        return x * psi\n"
      ]
    },
    {
      "cell_type": "markdown",
      "id": "19439b32",
      "metadata": {
        "id": "19439b32"
      },
      "source": [
        "Now use the ```AttentionBlock``` to inherit [Attention UNet](https://arxiv.org/pdf/1804.03999) from UNet.\n",
        "\n",
        "![Attention UNet](https://www.researchgate.net/publication/347344899/figure/fig6/AS:971357475069952@1608601077414/The-architecture-of-Attention-U-Net-Attention-gate-selects-features-by-using-the.png)"
      ]
    },
    {
      "cell_type": "code",
      "execution_count": 17,
      "id": "b30d6840",
      "metadata": {
        "id": "b30d6840"
      },
      "outputs": [],
      "source": [
        "class AttentionUNet(UNet):\n",
        "    def __init__(self, in_channel=3, out_channel=1, filter_sizes=[64,128,256,512]):\n",
        "        super().__init__(in_channel, out_channel, filter_sizes)\n",
        "        f1,f2,f3,f4 = filter_sizes\n",
        "        self.att4 = AttentionBlock(f4, f4, f4//2)\n",
        "        self.att3 = AttentionBlock(f3, f3, f3//2)\n",
        "        self.att2 = AttentionBlock(f2, f2, f2//2)\n",
        "        self.att1 = AttentionBlock(f1, f1, f1//2)\n",
        "\n",
        "    def forward(self, x):\n",
        "        x1 = self.enc1(x)\n",
        "        x2 = self.enc2(self.pool(x1))\n",
        "        x3 = self.enc3(self.pool(x2))\n",
        "        x4 = self.enc4(self.pool(x3))\n",
        "        xb = self.bottleneck(self.pool(x4))\n",
        "\n",
        "        d4 = self.up4(xb); x4a = self.att4(d4, x4); d4 = self.dec4(torch.cat([d4, x4a], dim=1))\n",
        "        d3 = self.up3(d4); x3a = self.att3(d3, x3); d3 = self.dec3(torch.cat([d3, x3a], dim=1))\n",
        "        d2 = self.up2(d3); x2a = self.att2(d2, x2); d2 = self.dec2(torch.cat([d2, x2a], dim=1))\n",
        "        d1 = self.up1(d2); x1a = self.att1(d1, x1); d1 = self.dec1(torch.cat([d1, x1a], dim=1))\n",
        "\n",
        "        out = self.out_conv(d1)\n",
        "        return self.act(out)\n"
      ]
    },
    {
      "cell_type": "markdown",
      "id": "1a3194d5",
      "metadata": {
        "id": "1a3194d5"
      },
      "source": [
        "# Residual Attention UNet\n",
        "\n",
        "We will add residual blocks to the attention for better gradient flow. You can read more about residual blocks [here](https://arxiv.org/pdf/1512.03385).\n",
        "\n",
        "<img src=\"https://dfzljdn9uc3pi.cloudfront.net/2023/cs-1302/1/fig-1-full.png\" width=\"400\" alt=\"ResUNet Architecture\">"
      ]
    },
    {
      "cell_type": "code",
      "execution_count": 18,
      "id": "a009671f",
      "metadata": {
        "id": "a009671f"
      },
      "outputs": [],
      "source": [
        "class ResidualConvBlock(nn.Module):\n",
        "    def __init__(self, in_channel, out_channel):\n",
        "        super().__init__()\n",
        "        self.conv1 = nn.Sequential(\n",
        "            nn.Conv2d(in_channel, out_channel, 3, padding=1, bias=False),\n",
        "            nn.BatchNorm2d(out_channel),\n",
        "            nn.ReLU(inplace=True),\n",
        "        )\n",
        "        self.conv2 = nn.Sequential(\n",
        "            nn.Conv2d(out_channel, out_channel, 3, padding=1, bias=False),\n",
        "            nn.BatchNorm2d(out_channel),\n",
        "        )\n",
        "        self.shortcut = nn.Sequential(\n",
        "            nn.Conv2d(in_channel, out_channel, 1, bias=False),\n",
        "            nn.BatchNorm2d(out_channel),\n",
        "        ) if in_channel != out_channel else nn.Identity()\n",
        "        self.act = nn.ReLU(inplace=True)\n",
        "\n",
        "    def forward(self, x):\n",
        "        y = self.conv1(x)\n",
        "        y = self.conv2(y)\n",
        "        return self.act(y + self.shortcut(x))\n"
      ]
    },
    {
      "cell_type": "markdown",
      "id": "bf5739ce",
      "metadata": {
        "id": "bf5739ce"
      },
      "source": [
        "Use ```ResidualConvBlock``` to construct Residual Attention Unet."
      ]
    },
    {
      "cell_type": "code",
      "execution_count": 19,
      "id": "ac0b6428",
      "metadata": {
        "id": "ac0b6428"
      },
      "outputs": [],
      "source": [
        "class ResidualAttentionUNet(AttentionUNet):\n",
        "    def __init__(self, in_channel=3, out_channel=1, filter_sizes=[64,128,256,512]):\n",
        "        super().__init__(in_channel, out_channel, filter_sizes)\n",
        "        f1,f2,f3,f4 = filter_sizes\n",
        "        self.enc1 = ResidualConvBlock(in_channel, f1)\n",
        "        self.enc2 = ResidualConvBlock(f1, f2)\n",
        "        self.enc3 = ResidualConvBlock(f2, f3)\n",
        "        self.enc4 = ResidualConvBlock(f3, f4)\n",
        "        self.bottleneck = ResidualConvBlock(f4, f4*2)\n",
        "        self.dec4 = ResidualConvBlock(f4*2, f4)\n",
        "        self.dec3 = ResidualConvBlock(f3*2, f3)\n",
        "        self.dec2 = ResidualConvBlock(f2*2, f2)\n",
        "        self.dec1 = ResidualConvBlock(f1*2, f1)\n"
      ]
    },
    {
      "cell_type": "markdown",
      "id": "9ce7e105",
      "metadata": {
        "id": "9ce7e105"
      },
      "source": [
        "# Training\n",
        "\n",
        "Now it is time to train the model on training data."
      ]
    },
    {
      "cell_type": "markdown",
      "id": "4aa6a47a",
      "metadata": {
        "id": "4aa6a47a"
      },
      "source": [
        "### Loss Function\n",
        "\n",
        "We will be using the sum of [Dice Score](https://oecd.ai/en/catalogue/metrics/dice-score#:~:text=The%20Dice%20score%20is%20calculated,sizes%20of%20the%20two%20sets.), [Iou Score](https://www.v7labs.com/blog/intersection-over-union-guide), and Binary Cross Entropy as loss function. You can read about the mentioned scores in the provided links.\n",
        "\n",
        "<font color=cyan><b> Note: Do Not Change The ```OverallLoss``` Function as it is used for measuring you model's performance.</b></font>"
      ]
    },
    {
      "cell_type": "code",
      "execution_count": 20,
      "id": "f0966ba5",
      "metadata": {
        "id": "f0966ba5"
      },
      "outputs": [],
      "source": [
        "### DICE LOSS\n",
        "class DiceLoss(nn.Module):\n",
        "    def __init__(self, smooth=1e-6):\n",
        "        super().__init__()\n",
        "        self.smooth = smooth\n",
        "    def forward(self, pred, real):\n",
        "        pred = pred.contiguous(); real = real.contiguous()\n",
        "        inter = (pred*real).sum(dim=(2,3))\n",
        "        denom = pred.sum(dim=(2,3)) + real.sum(dim=(2,3))\n",
        "        dice = (2*inter + self.smooth) / (denom + self.smooth)\n",
        "        return 1 - dice.mean()\n",
        "\n",
        "class IouLoss(nn.Module):\n",
        "    def __init__(self, smooth=1e-6):\n",
        "        super().__init__(); self.smooth = smooth\n",
        "    def forward(self, pred, real):\n",
        "        pred = pred.contiguous(); real = real.contiguous()\n",
        "        inter = (pred*real).sum(dim=(2,3))\n",
        "        union = pred.sum(dim=(2,3)) + real.sum(dim=(2,3)) - inter\n",
        "        iou = (inter + self.smooth) / (union + self.smooth)\n",
        "        return 1 - iou.mean()\n",
        "\n",
        "class OverallLoss(nn.Module):\n",
        "    def __init__(self, smooth=1e-6):\n",
        "        super().__init__()\n",
        "        self.dice_loss = DiceLoss(smooth)\n",
        "        self.iou_loss  = IouLoss(smooth)\n",
        "        self.bce_loss  = nn.BCELoss()\n",
        "    def forward(self, pred, real):\n",
        "        dice = self.dice_loss(pred, real)\n",
        "        iou  = self.iou_loss(pred, real)\n",
        "        bce  = self.bce_loss(pred, real)\n",
        "        return dice, iou, bce, dice+iou+bce\n"
      ]
    },
    {
      "cell_type": "markdown",
      "id": "b23e9266",
      "metadata": {
        "id": "b23e9266"
      },
      "source": [
        "### Training Epoch\n",
        "\n",
        "Complete the function below to train the model for one epoch."
      ]
    },
    {
      "cell_type": "code",
      "execution_count": 21,
      "id": "538edeee",
      "metadata": {
        "id": "538edeee"
      },
      "outputs": [],
      "source": [
        "def train_one_epoch(model, optimizer, criterion, data_loader, scheduler=None, device='cuda'):\n",
        "    model.train()\n",
        "    total = 0.0\n",
        "    for imgs, masks in tqdm(data_loader, desc='Train', leave=False):\n",
        "        imgs = imgs.to(device); masks = masks.to(device)\n",
        "        optimizer.zero_grad()\n",
        "        pred = model(imgs)\n",
        "        _, _, _, loss = criterion(pred, masks)\n",
        "        loss.backward(); optimizer.step()\n",
        "        if scheduler is not None: scheduler.step()\n",
        "        total += loss.item()\n",
        "    return total / max(1, len(data_loader))\n"
      ]
    },
    {
      "cell_type": "markdown",
      "id": "df64e4e7",
      "metadata": {
        "id": "df64e4e7"
      },
      "source": [
        "Design a function for evaluation after each training phase."
      ]
    },
    {
      "cell_type": "code",
      "execution_count": 22,
      "id": "0a63f31b",
      "metadata": {
        "id": "0a63f31b"
      },
      "outputs": [],
      "source": [
        "def evaluate_model(model, criterion, data_loader, device='cuda'):\n",
        "    model.eval()\n",
        "    total = 0.0; iou_s = 0.0; dice_s = 0.0\n",
        "    with torch.inference_mode():\n",
        "        for imgs, masks in tqdm(data_loader, desc='Eval', leave=False):\n",
        "            imgs = imgs.to(device); masks = masks.to(device)\n",
        "            pred = model(imgs)\n",
        "            dice_l, iou_l, bce_l, overall_l = criterion(pred, masks)\n",
        "            total += overall_l.item()\n",
        "            iou_s  += 1 - iou_l.item()\n",
        "            dice_s += 1 - dice_l.item()\n",
        "    n = max(1, len(data_loader))\n",
        "    return total/n, iou_s/n, dice_s/n\n"
      ]
    },
    {
      "cell_type": "markdown",
      "id": "223a8cc5",
      "metadata": {
        "id": "223a8cc5"
      },
      "source": [
        "# Model Training\n",
        "\n",
        "### UNet  \n",
        "Create an instance of UNet and train it. Then report the results.  \n",
        "\n",
        "<b><font color=red>Note: your models need to satisfy below conditions to get complete score.</font></b>\n",
        "\n",
        "<table style=\"width: 100%; font-size: 18px; border-collapse: collapse; margin: 15px 0;\">\n",
        "  <tr>\n",
        "    <th style=\"text-align: left; padding: 8px; border-bottom: 2px solid #ddd;\">Model</th>\n",
        "    <th style=\"text-align: right; padding: 8px; border-bottom: 2px solid #ddd;\">Validation Loss</th>\n",
        "    <th style=\"text-align: right; padding: 8px; border-bottom: 2px solid #ddd;\">Iou Score</th>\n",
        "    <th style=\"text-align: right; padding: 8px; border-bottom: 2px solid #ddd;\">Dice Score</th>\n",
        "  </tr>\n",
        "  <tr>\n",
        "    <td style=\"padding: 8px; border-bottom: 1px solid #ddd;\">UNet</td>\n",
        "    <td style=\"text-align: right; padding: 8px; border-bottom: 1px solid #ddd;\">&lt; 1.0</td>\n",
        "    <td style=\"text-align: right; padding: 8px; border-bottom: 1px solid #ddd;\">&gt; 0.5</td>\n",
        "    <td style=\"text-align: right; padding: 8px; border-bottom: 1px solid #ddd;\">&gt; 0.6</td>\n",
        "  </tr>\n",
        "  <tr>\n",
        "    <td style=\"padding: 8px; border-bottom: 1px solid #ddd;\">Attention UNet</td>\n",
        "    <td style=\"text-align: right; padding: 8px; border-bottom: 1px solid #ddd;\">&lt; 0.9</td>\n",
        "    <td style=\"text-align: right; padding: 8px; border-bottom: 1px solid #ddd;\">&gt; 0.6</td>\n",
        "    <td style=\"text-align: right; padding: 8px; border-bottom: 1px solid #ddd;\">&gt; 0.65</td>\n",
        "  </tr>\n",
        "  <tr>\n",
        "    <td style=\"padding: 8px;\">Residual Attention UNet</td>\n",
        "    <td style=\"text-align: right; padding: 8px;\">&lt; 0.8</td>\n",
        "    <td style=\"text-align: right; padding: 8px;\">&gt; 0.65</td>\n",
        "    <td style=\"text-align: right; padding: 8px;\">&gt; 0.7</td>\n",
        "  </tr>\n",
        "</table>"
      ]
    },
    {
      "cell_type": "code",
      "execution_count": 29,
      "id": "400db6ae",
      "metadata": {
        "id": "400db6ae",
        "outputId": "db61d00f-d491-4670-fa7e-803a3d07af2d",
        "colab": {
          "base_uri": "https://localhost:8080/"
        }
      },
      "outputs": [
        {
          "output_type": "stream",
          "name": "stderr",
          "text": []
        },
        {
          "output_type": "stream",
          "name": "stdout",
          "text": [
            "Iteration 1/15: Train Loss: 1.95 | Val Loss: 1.55 | Iou Score: 0.26 | Dice Score: 0.41\n"
          ]
        },
        {
          "output_type": "stream",
          "name": "stderr",
          "text": []
        },
        {
          "output_type": "stream",
          "name": "stdout",
          "text": [
            "Iteration 2/15: Train Loss: 1.40 | Val Loss: 1.26 | Iou Score: 0.38 | Dice Score: 0.54\n"
          ]
        },
        {
          "output_type": "stream",
          "name": "stderr",
          "text": []
        },
        {
          "output_type": "stream",
          "name": "stdout",
          "text": [
            "Iteration 3/15: Train Loss: 1.26 | Val Loss: 1.19 | Iou Score: 0.42 | Dice Score: 0.58\n"
          ]
        },
        {
          "output_type": "stream",
          "name": "stderr",
          "text": []
        },
        {
          "output_type": "stream",
          "name": "stdout",
          "text": [
            "Iteration 4/15: Train Loss: 1.20 | Val Loss: 1.17 | Iou Score: 0.43 | Dice Score: 0.59\n"
          ]
        },
        {
          "output_type": "stream",
          "name": "stderr",
          "text": []
        },
        {
          "output_type": "stream",
          "name": "stdout",
          "text": [
            "Iteration 5/15: Train Loss: 1.17 | Val Loss: 1.06 | Iou Score: 0.47 | Dice Score: 0.64\n"
          ]
        },
        {
          "output_type": "stream",
          "name": "stderr",
          "text": []
        },
        {
          "output_type": "stream",
          "name": "stdout",
          "text": [
            "Iteration 6/15: Train Loss: 1.15 | Val Loss: 1.06 | Iou Score: 0.47 | Dice Score: 0.63\n"
          ]
        },
        {
          "output_type": "stream",
          "name": "stderr",
          "text": []
        },
        {
          "output_type": "stream",
          "name": "stdout",
          "text": [
            "Iteration 7/15: Train Loss: 1.13 | Val Loss: 1.02 | Iou Score: 0.49 | Dice Score: 0.66\n"
          ]
        },
        {
          "output_type": "stream",
          "name": "stderr",
          "text": []
        },
        {
          "output_type": "stream",
          "name": "stdout",
          "text": [
            "Iteration 8/15: Train Loss: 1.12 | Val Loss: 1.04 | Iou Score: 0.49 | Dice Score: 0.65\n"
          ]
        },
        {
          "output_type": "stream",
          "name": "stderr",
          "text": []
        },
        {
          "output_type": "stream",
          "name": "stdout",
          "text": [
            "Iteration 9/15: Train Loss: 1.11 | Val Loss: 0.98 | Iou Score: 0.51 | Dice Score: 0.68\n"
          ]
        },
        {
          "output_type": "stream",
          "name": "stderr",
          "text": []
        },
        {
          "output_type": "stream",
          "name": "stdout",
          "text": [
            "Iteration 10/15: Train Loss: 1.10 | Val Loss: 0.97 | Iou Score: 0.51 | Dice Score: 0.68\n"
          ]
        },
        {
          "output_type": "stream",
          "name": "stderr",
          "text": []
        },
        {
          "output_type": "stream",
          "name": "stdout",
          "text": [
            "Iteration 11/15: Train Loss: 1.09 | Val Loss: 1.00 | Iou Score: 0.51 | Dice Score: 0.67\n"
          ]
        },
        {
          "output_type": "stream",
          "name": "stderr",
          "text": []
        },
        {
          "output_type": "stream",
          "name": "stdout",
          "text": [
            "Iteration 12/15: Train Loss: 1.08 | Val Loss: 0.95 | Iou Score: 0.52 | Dice Score: 0.68\n"
          ]
        },
        {
          "output_type": "stream",
          "name": "stderr",
          "text": []
        },
        {
          "output_type": "stream",
          "name": "stdout",
          "text": [
            "Iteration 13/15: Train Loss: 1.07 | Val Loss: 0.96 | Iou Score: 0.52 | Dice Score: 0.68\n"
          ]
        },
        {
          "output_type": "stream",
          "name": "stderr",
          "text": []
        },
        {
          "output_type": "stream",
          "name": "stdout",
          "text": [
            "Iteration 14/15: Train Loss: 1.06 | Val Loss: 0.98 | Iou Score: 0.51 | Dice Score: 0.67\n"
          ]
        },
        {
          "output_type": "stream",
          "name": "stderr",
          "text": [
            "                                                   "
          ]
        },
        {
          "output_type": "stream",
          "name": "stdout",
          "text": [
            "Iteration 15/15: Train Loss: 1.06 | Val Loss: 0.95 | Iou Score: 0.53 | Dice Score: 0.69\n"
          ]
        },
        {
          "output_type": "stream",
          "name": "stderr",
          "text": [
            "\r"
          ]
        }
      ],
      "source": [
        "unet = UNet().to(device)\n",
        "criterion = OverallLoss()\n",
        "# You can use other optimizers or Adam optimizer with customized weight decay, b1, or b2\n",
        "optimizer = Adam(unet.parameters(), lr=LR)\n",
        "# Add a scheduler if you like\n",
        "\n",
        "best_loss = 100.0\n",
        "for i in range(NUM_EPOCHS):\n",
        "    train_loss = train_one_epoch(unet, optimizer, criterion, train_loader)\n",
        "    val_loss, iou_score, dice_score = evaluate_model(unet, criterion, val_loader)\n",
        "\n",
        "    if val_loss < best_loss:\n",
        "        best_loss = val_loss\n",
        "        torch.save(unet.state_dict(), \"best_unet.pth\")\n",
        "\n",
        "    print(f\"Iteration {i+1}/{NUM_EPOCHS}: \"\n",
        "          f\"Train Loss: {train_loss:.2f} | \"\n",
        "          f\"Val Loss: {val_loss:.2f} | \"\n",
        "          f\"Iou Score: {iou_score:.2f} | \"\n",
        "          f\"Dice Score: {dice_score:.2f}\")"
      ]
    },
    {
      "cell_type": "markdown",
      "id": "23109259",
      "metadata": {
        "id": "23109259"
      },
      "source": [
        "Now do the same for Attention UNet and Reidual Attention UNet."
      ]
    },
    {
      "cell_type": "code",
      "execution_count": null,
      "id": "3b74e7bb",
      "metadata": {
        "id": "3b74e7bb",
        "outputId": "f48e2dab-de8b-4185-f1e3-d71179b3703e",
        "colab": {
          "base_uri": "https://localhost:8080/"
        }
      },
      "outputs": [
        {
          "output_type": "stream",
          "name": "stderr",
          "text": []
        },
        {
          "output_type": "stream",
          "name": "stdout",
          "text": [
            "Iteration 1/15: Train Loss: 1.97 | Val Loss: 1.49 | Iou Score: 0.27 | Dice Score: 0.42\n"
          ]
        },
        {
          "output_type": "stream",
          "name": "stderr",
          "text": []
        },
        {
          "output_type": "stream",
          "name": "stdout",
          "text": [
            "Iteration 2/15: Train Loss: 1.40 | Val Loss: 1.26 | Iou Score: 0.39 | Dice Score: 0.56\n"
          ]
        },
        {
          "output_type": "stream",
          "name": "stderr",
          "text": []
        },
        {
          "output_type": "stream",
          "name": "stdout",
          "text": [
            "Iteration 3/15: Train Loss: 1.24 | Val Loss: 1.07 | Iou Score: 0.47 | Dice Score: 0.64\n"
          ]
        },
        {
          "output_type": "stream",
          "name": "stderr",
          "text": []
        },
        {
          "output_type": "stream",
          "name": "stdout",
          "text": [
            "Iteration 4/15: Train Loss: 1.19 | Val Loss: 1.01 | Iou Score: 0.49 | Dice Score: 0.66\n"
          ]
        },
        {
          "output_type": "stream",
          "name": "stderr",
          "text": [
            "Train:  94%|█████████▍| 131/139 [01:08<00:04,  1.92it/s]"
          ]
        }
      ],
      "source": [
        "attention_unet = AttentionUNet().to(device)\n",
        "criterion = OverallLoss()\n",
        "# You can use other optimizers or Adam optimizer with customized weight decay, b1, or b2\n",
        "optimizer = Adam(attention_unet.parameters(), lr=LR)\n",
        "\n",
        "best_loss = 100.0\n",
        "for i in range(NUM_EPOCHS):\n",
        "    train_loss = train_one_epoch(attention_unet, optimizer, criterion, train_loader)\n",
        "    val_loss, iou_score, dice_score = evaluate_model(attention_unet, criterion, val_loader)\n",
        "\n",
        "    if val_loss < best_loss:\n",
        "        best_loss = val_loss\n",
        "        torch.save(attention_unet.state_dict(), \"best_attention_unet.pth\")\n",
        "\n",
        "    print(f\"Iteration {i+1}/{NUM_EPOCHS}: \"\n",
        "          f\"Train Loss: {train_loss:.2f} | \"\n",
        "          f\"Val Loss: {val_loss:.2f} | \"\n",
        "          f\"Iou Score: {iou_score:.2f} | \"\n",
        "          f\"Dice Score: {dice_score:.2f}\")"
      ]
    },
    {
      "cell_type": "markdown",
      "id": "293ad90a",
      "metadata": {
        "id": "293ad90a"
      },
      "source": [
        "For Residual Attention UNet, plot the changes in train and validation loss."
      ]
    },
    {
      "cell_type": "code",
      "execution_count": null,
      "id": "f64e512b",
      "metadata": {
        "id": "f64e512b"
      },
      "outputs": [],
      "source": [
        "resattn_unet = ResidualAttentionUNet().to(device)\n",
        "criterion = OverallLoss()\n",
        "# You can use other optimizers or Adam optimizer with customized weight decay, b1, or b2\n",
        "optimizer = Adam(resattn_unet.parameters(), lr=LR)\n",
        "\n",
        "train_losses = []\n",
        "val_losses = []\n",
        "\n",
        "best_loss = 100.0\n",
        "for i in range(NUM_EPOCHS):\n",
        "    train_loss = train_one_epoch(resattn_unet, optimizer, criterion, train_loader)\n",
        "    val_loss, iou_score, dice_score = evaluate_model(resattn_unet, criterion, val_loader)\n",
        "\n",
        "    train_losses.append(train_loss)\n",
        "    val_losses.append(val_loss)\n",
        "\n",
        "    if val_loss < best_loss:\n",
        "        torch.save(resattn_unet.state_dict(), \"best_residual_attention_unet.pth\")\n",
        "\n",
        "    print(f\"Iteration {i+1}/{NUM_EPOCHS}: \"\n",
        "          f\"Train Loss: {train_loss:.2f} | \"\n",
        "          f\"Val Loss: {val_loss:.2f} | \"\n",
        "          f\"Iou Score: {iou_score:.2f} | \"\n",
        "          f\"Dice Score: {dice_score:.2f}\")"
      ]
    },
    {
      "cell_type": "markdown",
      "id": "77aff22a",
      "metadata": {
        "id": "77aff22a"
      },
      "source": [
        "Now Visualize losses."
      ]
    },
    {
      "cell_type": "code",
      "execution_count": 26,
      "id": "c313615f",
      "metadata": {
        "id": "c313615f",
        "outputId": "7249715b-72bb-40f4-908b-3dbcffc5b9de",
        "colab": {
          "base_uri": "https://localhost:8080/",
          "height": 410
        }
      },
      "outputs": [
        {
          "output_type": "display_data",
          "data": {
            "text/plain": [
              "<Figure size 600x400 with 1 Axes>"
            ],
            "image/png": "[encoded data removed]"
          },
          "metadata": {}
        }
      ],
      "source": [
        "# Plot the losses\n",
        "if 'train_losses' in globals() and 'val_losses' in globals() and len(train_losses) and len(val_losses):\n",
        "    plt.figure(figsize=(6,4))\n",
        "    plt.plot(train_losses, label='Train'); plt.plot(val_losses, label='Val')\n",
        "    plt.xlabel('Epoch'); plt.ylabel('Loss'); plt.legend(); plt.title('Training vs Validation Loss'); plt.show()\n",
        "else:\n",
        "    print(\"Run the ResidualAttentionUNet training cell to populate train_losses/val_losses.\")\n"
      ]
    },
    {
      "cell_type": "markdown",
      "id": "69f3e2e4",
      "metadata": {
        "id": "69f3e2e4"
      },
      "source": [
        "### Prediction Visualisation\n",
        "\n",
        "Display several images, their masks, and the predicted mask by your model."
      ]
    },
    {
      "cell_type": "code",
      "execution_count": 27,
      "id": "114b323d",
      "metadata": {
        "id": "114b323d"
      },
      "outputs": [],
      "source": [
        "def visualize_image_mask_prediction(images, masks, predictions, n=5):\n",
        "    n = min(n, len(images))\n",
        "    plt.figure(figsize=(12, 4*n))\n",
        "    for i in range(n):\n",
        "        plt.subplot(n,3,3*i+1); plt.imshow(images[i]); plt.axis('off'); plt.title('Image')\n",
        "        plt.subplot(n,3,3*i+2); plt.imshow(masks[i].squeeze(), cmap='gray'); plt.axis('off'); plt.title('Mask')\n",
        "        pr = predictions[i]\n",
        "        pr = pr.squeeze()\n",
        "        if pr.ndim == 3: pr = pr[0]\n",
        "        plt.subplot(n,3,3*i+3); plt.imshow((pr>=0.5).astype(np.float32), cmap='gray'); plt.axis('off'); plt.title('Prediction')\n",
        "    plt.tight_layout(); plt.show()\n"
      ]
    },
    {
      "cell_type": "markdown",
      "id": "b8c4c0d0",
      "metadata": {
        "id": "b8c4c0d0"
      },
      "source": []
    }
  ],
  "metadata": {
    "colab": {
      "provenance": [],
      "gpuType": "T4",
      "include_colab_link": true
    },
    "kernelspec": {
      "display_name": "Python 3",
      "name": "python3"
    },
    "language_info": {
      "codemirror_mode": {
        "name": "ipython",
        "version": 3
      },
      "file_extension": ".py",
      "mimetype": "text/x-python",
      "name": "python",
      "nbconvert_exporter": "python",
      "pygments_lexer": "ipython3",
      "version": "3.11.11"
    },
    "accelerator": "GPU"
  },
  "nbformat": 4,
  "nbformat_minor": 5
}